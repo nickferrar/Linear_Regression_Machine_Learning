{
 "cells": [
  {
   "cell_type": "code",
   "execution_count": 2,
   "id": "d22a84f5",
   "metadata": {},
   "outputs": [],
   "source": [
    "import tensorflow as tf\n",
    "import matplotlib.pyplot as plt\n",
    "import numpy as np"
   ]
  },
  {
   "cell_type": "code",
   "execution_count": 3,
   "id": "36ee5dd6",
   "metadata": {},
   "outputs": [],
   "source": [
    "m = 2\n",
    "b = 0.5\n",
    "x = np.linspace(0,4,100)\n",
    "y = m* x + b + np.random.randn(*x.shape) + 0.25\n"
   ]
  },
  {
   "cell_type": "code",
   "execution_count": 4,
   "id": "38cb5caa",
   "metadata": {},
   "outputs": [
    {
     "data": {
      "text/plain": [
       "<matplotlib.collections.PathCollection at 0x21db36676c8>"
      ]
     },
     "execution_count": 4,
     "metadata": {},
     "output_type": "execute_result"
    },
    {
     "data": {
      "image/png": "[encoded data removed]",
      "text/plain": [
       "<Figure size 432x288 with 1 Axes>"
      ]
     },
     "metadata": {
      "needs_background": "light"
     },
     "output_type": "display_data"
    }
   ],
   "source": [
    "plt.scatter(x,y)"
   ]
  },
  {
   "cell_type": "code",
   "execution_count": 5,
   "id": "af4c4fd2",
   "metadata": {},
   "outputs": [],
   "source": [
    "class Model:\n",
    "    def __init__(self):\n",
    "        self.weight = tf.Variable(10.0)\n",
    "        self.bias = tf.Variable(10.0)\n",
    "        \n",
    "    def __call__(self, x):\n",
    "        return self.weight * x + self.bias\n",
    "\n"
   ]
  },
  {
   "cell_type": "code",
   "execution_count": 6,
   "id": "13a7074f",
   "metadata": {},
   "outputs": [],
   "source": [
    "def calculate_loss(y_actual, y_output):\n",
    "    return tf.reduce_mean(tf.square(y_actual - y_output))"
   ]
  },
  {
   "cell_type": "code",
   "execution_count": 9,
   "id": "ffb3bb16",
   "metadata": {},
   "outputs": [],
   "source": [
    "def train(model, x, y, learning_rate):\n",
    "    with tf.GradientTape() as gt:\n",
    "        y_output = model(x)\n",
    "        loss = calculate_loss(y, y_output)\n",
    "        \n",
    "    new_weight, new_bias = gt.gradient(loss, [model.weight, model.bias])\n",
    "    model.weight.assign_sub(new_weight * learning_rate)\n",
    "    model.bias.assign_sub(new_bias * learning_rate)\n",
    "    "
   ]
  },
  {
   "cell_type": "code",
   "execution_count": 10,
   "id": "f8fa3042",
   "metadata": {},
   "outputs": [
    {
     "name": "stdout",
     "output_type": "stream",
     "text": [
      "Epoch: 0, loss: 724.8797607421875\n",
      "Epoch: 1, loss: 514.8416137695312\n",
      "Epoch: 2, loss: 365.9119873046875\n",
      "Epoch: 3, loss: 260.2860412597656\n",
      "Epoch: 4, loss: 185.35000610351562\n",
      "Epoch: 5, loss: 132.16709899902344\n",
      "Epoch: 6, loss: 94.405517578125\n",
      "Epoch: 7, loss: 67.57864379882812\n",
      "Epoch: 8, loss: 48.50714874267578\n",
      "Epoch: 9, loss: 34.937767028808594\n",
      "Epoch: 10, loss: 25.27338218688965\n",
      "Epoch: 11, loss: 18.3817195892334\n",
      "Epoch: 12, loss: 13.45994758605957\n",
      "Epoch: 13, loss: 9.938633918762207\n",
      "Epoch: 14, loss: 7.413788318634033\n",
      "Epoch: 15, loss: 5.598690986633301\n",
      "Epoch: 16, loss: 4.289740562438965\n",
      "Epoch: 17, loss: 3.3422930240631104\n",
      "Epoch: 18, loss: 2.6535069942474365\n",
      "Epoch: 19, loss: 2.150207996368408\n",
      "Epoch: 20, loss: 1.7802728414535522\n",
      "Epoch: 21, loss: 1.5065269470214844\n",
      "Epoch: 22, loss: 1.3024184703826904\n",
      "Epoch: 23, loss: 1.1489472389221191\n",
      "Epoch: 24, loss: 1.0324864387512207\n",
      "Epoch: 25, loss: 0.9432368278503418\n",
      "Epoch: 26, loss: 0.8741299510002136\n",
      "Epoch: 27, loss: 0.8200474381446838\n",
      "Epoch: 28, loss: 0.7772665619850159\n",
      "Epoch: 29, loss: 0.7430656552314758\n",
      "Epoch: 30, loss: 0.7154431939125061\n",
      "Epoch: 31, loss: 0.6929170489311218\n",
      "Epoch: 32, loss: 0.6743810176849365\n",
      "Epoch: 33, loss: 0.6590030789375305\n",
      "Epoch: 34, loss: 0.6461511254310608\n",
      "Epoch: 35, loss: 0.6353400349617004\n",
      "Epoch: 36, loss: 0.6261941194534302\n",
      "Epoch: 37, loss: 0.6184190511703491\n",
      "Epoch: 38, loss: 0.6117814779281616\n",
      "Epoch: 39, loss: 0.606095016002655\n",
      "Epoch: 40, loss: 0.6012088060379028\n",
      "Epoch: 41, loss: 0.5969998836517334\n",
      "Epoch: 42, loss: 0.5933666229248047\n",
      "Epoch: 43, loss: 0.5902250409126282\n",
      "Epoch: 44, loss: 0.5875047445297241\n",
      "Epoch: 45, loss: 0.585146427154541\n",
      "Epoch: 46, loss: 0.5831000208854675\n",
      "Epoch: 47, loss: 0.5813228487968445\n",
      "Epoch: 48, loss: 0.5797784328460693\n",
      "Epoch: 49, loss: 0.5784357190132141\n",
      "Epoch: 50, loss: 0.5772677659988403\n",
      "Epoch: 51, loss: 0.5762515664100647\n",
      "Epoch: 52, loss: 0.5753670334815979\n",
      "Epoch: 53, loss: 0.5745969414710999\n",
      "Epoch: 54, loss: 0.5739263892173767\n",
      "Epoch: 55, loss: 0.5733424425125122\n",
      "Epoch: 56, loss: 0.5728338360786438\n",
      "Epoch: 57, loss: 0.5723907947540283\n",
      "Epoch: 58, loss: 0.5720048546791077\n",
      "Epoch: 59, loss: 0.5716686248779297\n",
      "Epoch: 60, loss: 0.5713756680488586\n",
      "Epoch: 61, loss: 0.5711204409599304\n",
      "Epoch: 62, loss: 0.5708979964256287\n",
      "Epoch: 63, loss: 0.5707042217254639\n",
      "Epoch: 64, loss: 0.5705353617668152\n",
      "Epoch: 65, loss: 0.5703881978988647\n",
      "Epoch: 66, loss: 0.5702599883079529\n",
      "Epoch: 67, loss: 0.570148229598999\n",
      "Epoch: 68, loss: 0.5700508952140808\n",
      "Epoch: 69, loss: 0.5699659585952759\n",
      "Epoch: 70, loss: 0.5698920488357544\n",
      "Epoch: 71, loss: 0.5698276162147522\n",
      "Epoch: 72, loss: 0.569771409034729\n",
      "Epoch: 73, loss: 0.5697225332260132\n",
      "Epoch: 74, loss: 0.569679856300354\n",
      "Epoch: 75, loss: 0.5696427226066589\n",
      "Epoch: 76, loss: 0.5696103572845459\n",
      "Epoch: 77, loss: 0.5695821046829224\n",
      "Epoch: 78, loss: 0.5695574879646301\n",
      "Epoch: 79, loss: 0.569536030292511\n",
      "Epoch: 80, loss: 0.5695173740386963\n",
      "Epoch: 81, loss: 0.5695011019706726\n",
      "Epoch: 82, loss: 0.5694868564605713\n",
      "Epoch: 83, loss: 0.5694745182991028\n",
      "Epoch: 84, loss: 0.5694637894630432\n",
      "Epoch: 85, loss: 0.5694543719291687\n",
      "Epoch: 86, loss: 0.5694462060928345\n",
      "Epoch: 87, loss: 0.5694391131401062\n",
      "Epoch: 88, loss: 0.5694329142570496\n",
      "Epoch: 89, loss: 0.5694274306297302\n",
      "Epoch: 90, loss: 0.569422721862793\n",
      "Epoch: 91, loss: 0.5694186687469482\n",
      "Epoch: 92, loss: 0.5694149732589722\n",
      "Epoch: 93, loss: 0.5694119334220886\n",
      "Epoch: 94, loss: 0.569409191608429\n",
      "Epoch: 95, loss: 0.5694068074226379\n",
      "Epoch: 96, loss: 0.5694047808647156\n",
      "Epoch: 97, loss: 0.5694029331207275\n",
      "Epoch: 98, loss: 0.5694013237953186\n",
      "Epoch: 99, loss: 0.5694000124931335\n"
     ]
    }
   ],
   "source": [
    "model = Model()\n",
    "epochs = 100\n",
    "learning_rate = 0.15\n",
    "\n",
    "for epoch in range(epochs):\n",
    "    y_output = model(x)\n",
    "    loss = calculate_loss(y, y_output)\n",
    "    print(f'Epoch: {epoch}, loss: {loss.numpy()}')\n",
    "    train(model, x, y, learning_rate)"
   ]
  },
  {
   "cell_type": "code",
   "execution_count": 12,
   "id": "189605f6",
   "metadata": {},
   "outputs": [
    {
     "name": "stdout",
     "output_type": "stream",
     "text": [
      "2.0570211\n",
      "0.6179148\n"
     ]
    }
   ],
   "source": [
    "print(model.weight.numpy())\n",
    "print(model.bias.numpy())"
   ]
  },
  {
   "cell_type": "code",
   "execution_count": 15,
   "id": "f20df208",
   "metadata": {},
   "outputs": [
    {
     "data": {
      "text/plain": [
       "<matplotlib.collections.PathCollection at 0x21dbae8f548>"
      ]
     },
     "execution_count": 15,
     "metadata": {},
     "output_type": "execute_result"
    },
    {
     "data": {
      "image/png": "[encoded data removed]",
      "text/plain": [
       "<Figure size 432x288 with 1 Axes>"
      ]
     },
     "metadata": {
      "needs_background": "light"
     },
     "output_type": "display_data"
    }
   ],
   "source": [
    "\n",
    "new_x = np.linspace(0,4,50)\n",
    "new_y = model.weight.numpy()* new_x + model.bias.numpy() \n",
    "plt.scatter(new_x, new_y)\n",
    "plt.scatter(x,y)"
   ]
  }
 ],
 "metadata": {
  "kernelspec": {
   "display_name": "mlenv",
   "language": "python",
   "name": "mlenv"
  },
  "language_info": {
   "codemirror_mode": {
    "name": "ipython",
    "version": 3
   },
   "file_extension": ".py",
   "mimetype": "text/x-python",
   "name": "python",
   "nbconvert_exporter": "python",
   "pygments_lexer": "ipython3",
   "version": "3.7.10"
  }
 },
 "nbformat": 4,
 "nbformat_minor": 5
}
